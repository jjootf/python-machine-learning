{
 "cells": [
  {
   "cell_type": "code",
   "execution_count": 38,
   "id": "37cc921c",
   "metadata": {},
   "outputs": [],
   "source": [
    "import numpy as np\n",
    "import pandas as pd\n",
    "import matplotlib.pyplot as plt"
   ]
  },
  {
   "cell_type": "code",
   "execution_count": 39,
   "id": "c9978b4f",
   "metadata": {},
   "outputs": [],
   "source": [
    "dataset = pd.read_csv('Position_Salaries.csv').values"
   ]
  },
  {
   "cell_type": "code",
   "execution_count": 40,
   "id": "03e1e764",
   "metadata": {},
   "outputs": [
    {
     "name": "stdout",
     "output_type": "stream",
     "text": [
      "(10, 1) (10,)\n"
     ]
    }
   ],
   "source": [
    "# X: 두번째 열(Level, 직급)\n",
    "# y: 세번째 열(Salary)\n",
    "# 직급에 따라 salary를 예측(결정)하는 모델\n",
    "\n",
    "X = dataset[:,1].reshape(-1,1)\n",
    "# 1. 두번째 열만 선택 후, 2D array로 변경: dataset[:,1].reshape(-1,1)\n",
    "# 2. 첫번째 열을 제외, 두번째 열부터 마지막 열 앞에까지 (두번째 열만 선택 2D array)\n",
    "#    : dataset[:,1:-1]\n",
    "y = dataset[:,-1]\n",
    "print(X.shape, y.shape)"
   ]
  },
  {
   "cell_type": "code",
   "execution_count": 41,
   "id": "4f16a0dc",
   "metadata": {},
   "outputs": [
    {
     "name": "stdout",
     "output_type": "stream",
     "text": [
      "(7, 1) (3, 1) (7,) (3,)\n"
     ]
    }
   ],
   "source": [
    "# training과 test 데이터 분리\n",
    "from sklearn.model_selection import train_test_split\n",
    "X_train, X_test, y_train, y_test = train_test_split(X,y,test_size=0.3,random_state=1)\n",
    "print(X_train.shape, X_test.shape, y_train.shape, y_test.shape)"
   ]
  },
  {
   "cell_type": "markdown",
   "id": "0d40468e",
   "metadata": {},
   "source": [
    "### Polynomial feature로 X 확장"
   ]
  },
  {
   "cell_type": "code",
   "execution_count": 42,
   "id": "95b04e1f",
   "metadata": {
    "scrolled": true
   },
   "outputs": [
    {
     "name": "stdout",
     "output_type": "stream",
     "text": [
      "변환 전\n",
      "[[5]\n",
      " [1]\n",
      " [4]\n",
      " [2]\n",
      " [8]\n",
      " [9]\n",
      " [6]]\n",
      "변환 후\n",
      "[[1.000e+00 5.000e+00 2.500e+01 1.250e+02 6.250e+02]\n",
      " [1.000e+00 1.000e+00 1.000e+00 1.000e+00 1.000e+00]\n",
      " [1.000e+00 4.000e+00 1.600e+01 6.400e+01 2.560e+02]\n",
      " [1.000e+00 2.000e+00 4.000e+00 8.000e+00 1.600e+01]\n",
      " [1.000e+00 8.000e+00 6.400e+01 5.120e+02 4.096e+03]\n",
      " [1.000e+00 9.000e+00 8.100e+01 7.290e+02 6.561e+03]\n",
      " [1.000e+00 6.000e+00 3.600e+01 2.160e+02 1.296e+03]]\n"
     ]
    }
   ],
   "source": [
    "from sklearn.preprocessing import PolynomialFeatures\n",
    "poly = PolynomialFeatures(degree=4)\n",
    "# PolynomialFeatures 객체 생성(이름 선언), 확장할 degree 파라미터 지정\n",
    "poly.fit(X_train)\n",
    "# polynomial로 확장하기 위해 필요한 정보 수집\n",
    "X_train_poly = poly.transform(X_train)\n",
    "print('변환 전')\n",
    "print(X_train)\n",
    "print('변환 후')\n",
    "print(X_train_poly)"
   ]
  },
  {
   "cell_type": "code",
   "execution_count": 43,
   "id": "ef6d86ee",
   "metadata": {},
   "outputs": [
    {
     "data": {
      "text/plain": [
       "LinearRegression()"
      ]
     },
     "execution_count": 43,
     "metadata": {},
     "output_type": "execute_result"
    }
   ],
   "source": [
    "# polynomial features로 확장한 후, linear regression 적용\n",
    "from sklearn.linear_model import LinearRegression\n",
    "poly_lr = LinearRegression()\n",
    "poly_lr.fit(X_train_poly,y_train)"
   ]
  },
  {
   "cell_type": "code",
   "execution_count": 44,
   "id": "6281a892",
   "metadata": {},
   "outputs": [],
   "source": [
    "# test data에 대한 예측값\n",
    "# poly_lr은 PolynomialFeatures로 확장된 X를 이용하여 학습하였기 때문에\n",
    "# test data도 동일한 형식으로 확장해야 함\n",
    "X_test_poly = poly.transform(X_test)\n",
    "# X_test data에 대해서 fit은 다시 수행하지 않음\n",
    "y_pred = poly_lr.predict(X_test_poly)"
   ]
  },
  {
   "cell_type": "code",
   "execution_count": 45,
   "id": "d82675d9",
   "metadata": {
    "scrolled": true
   },
   "outputs": [
    {
     "data": {
      "text/plain": [
       "<matplotlib.legend.Legend at 0x1d277922130>"
      ]
     },
     "execution_count": 45,
     "metadata": {},
     "output_type": "execute_result"
    },
    {
     "data": {
      "image/png": "[encoded data removed]",
      "text/plain": [
       "<Figure size 640x480 with 1 Axes>"
      ]
     },
     "metadata": {},
     "output_type": "display_data"
    }
   ],
   "source": [
    "# 시각화\n",
    "# 결과 시각화\n",
    "plt.scatter(X_train,y_train,color='green',label='training data')\n",
    "plt.scatter(X_test,y_test,label='test data',color='orange')\n",
    "\n",
    "level = np.arange(1,11,1).reshape(-1,1)\n",
    "level_poly = poly.transform(level)\n",
    "salary = poly_lr.predict(level_poly)\n",
    "\n",
    "# poly_lr model을 선차트로 시각화\n",
    "plt.plot(level,salary,color='red',label='polynomial regressor')\n",
    "plt.xlabel('level')\n",
    "plt.ylabel('salary')\n",
    "plt.legend()"
   ]
  }
 ],
 "metadata": {
  "kernelspec": {
   "display_name": "Python 3 (ipykernel)",
   "language": "python",
   "name": "python3"
  },
  "language_info": {
   "codemirror_mode": {
    "name": "ipython",
    "version": 3
   },
   "file_extension": ".py",
   "mimetype": "text/x-python",
   "name": "python",
   "nbconvert_exporter": "python",
   "pygments_lexer": "ipython3",
   "version": "3.9.13"
  }
 },
 "nbformat": 4,
 "nbformat_minor": 5
}
