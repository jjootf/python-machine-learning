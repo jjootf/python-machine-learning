{
 "cells": [
  {
   "cell_type": "markdown",
   "id": "98d67717",
   "metadata": {},
   "source": [
    "#### simple linear regression: y = w0 + w1x1 형태"
   ]
  },
  {
   "cell_type": "code",
   "execution_count": 2,
   "id": "94d33fde",
   "metadata": {},
   "outputs": [],
   "source": [
    "import numpy as np\n",
    "import pandas as pd\n",
    "import matplotlib.pyplot as plt"
   ]
  },
  {
   "cell_type": "code",
   "execution_count": 4,
   "id": "334ec42d",
   "metadata": {
    "collapsed": true
   },
   "outputs": [
    {
     "name": "stdout",
     "output_type": "stream",
     "text": [
      "[[1.10000e+00 3.93430e+04]\n",
      " [1.30000e+00 4.62050e+04]\n",
      " [1.50000e+00 3.77310e+04]\n",
      " [2.00000e+00 4.35250e+04]\n",
      " [2.20000e+00 3.98910e+04]\n",
      " [2.90000e+00 5.66420e+04]\n",
      " [3.00000e+00 6.01500e+04]\n",
      " [3.20000e+00 5.44450e+04]\n",
      " [3.20000e+00 6.44450e+04]\n",
      " [3.70000e+00 5.71890e+04]\n",
      " [3.90000e+00 6.32180e+04]\n",
      " [4.00000e+00 5.57940e+04]\n",
      " [4.00000e+00 5.69570e+04]\n",
      " [4.10000e+00 5.70810e+04]\n",
      " [4.50000e+00 6.11110e+04]\n",
      " [4.90000e+00 6.79380e+04]\n",
      " [5.10000e+00 6.60290e+04]\n",
      " [5.30000e+00 8.30880e+04]\n",
      " [5.90000e+00 8.13630e+04]\n",
      " [6.00000e+00 9.39400e+04]\n",
      " [6.80000e+00 9.17380e+04]\n",
      " [7.10000e+00 9.82730e+04]\n",
      " [7.90000e+00 1.01302e+05]\n",
      " [8.20000e+00 1.13812e+05]\n",
      " [8.70000e+00 1.09431e+05]\n",
      " [9.00000e+00 1.05582e+05]\n",
      " [9.50000e+00 1.16969e+05]\n",
      " [9.60000e+00 1.12635e+05]\n",
      " [1.03000e+01 1.22391e+05]\n",
      " [1.05000e+01 1.21872e+05]]\n",
      "(30, 2)\n"
     ]
    }
   ],
   "source": [
    "dataset = pd.read_csv('regerssion_data/Salary_Data.csv').values\n",
    "print(dataset)\n",
    "print(dataset.shape)\n",
    "# 첫번째 열: 경력(년)\n",
    "# 두번째 열: 연봉(달러)\n",
    "# 목표: 경력(년)을 통해 연봉을 예측하는 linear regression model 생성"
   ]
  },
  {
   "cell_type": "code",
   "execution_count": 5,
   "id": "456a5652",
   "metadata": {},
   "outputs": [
    {
     "name": "stdout",
     "output_type": "stream",
     "text": [
      "(30, 1) (30,)\n"
     ]
    }
   ],
   "source": [
    "# X와 y 분리\n",
    "# ※ sklearn을 이용할 때, 항상 X는 2D 이상이어야 함\n",
    "X = dataset[:,:-1]\n",
    "# 또는 X = dataset[:,0].reshape(-1,1)\n",
    "y = dataset[:,-1]\n",
    "print(X.shape, y.shape)"
   ]
  },
  {
   "cell_type": "code",
   "execution_count": 6,
   "id": "51b91bb7",
   "metadata": {},
   "outputs": [],
   "source": [
    "# training data와 test data분리\n",
    "from sklearn.model_selection import train_test_split\n",
    "# 전체 데이터의 20%를 테스트 데이터로 사용\n",
    "X_train,X_test,y_train,y_test = train_test_split(X,y,test_size=0.2,random_state=1)"
   ]
  },
  {
   "cell_type": "code",
   "execution_count": 7,
   "id": "4c599512",
   "metadata": {},
   "outputs": [
    {
     "name": "stdout",
     "output_type": "stream",
     "text": [
      "(24, 1) (6, 1) (24,) (6,)\n"
     ]
    }
   ],
   "source": [
    "# shape을 이용하여 데이터의 수와 X를 구성하는 특징(요소)의 수 확인\n",
    "print(X_train.shape, X_test.shape, y_train.shape, y_test.shape)"
   ]
  },
  {
   "cell_type": "markdown",
   "id": "aa742ca4",
   "metadata": {},
   "source": [
    "## Linear regression model 생성"
   ]
  },
  {
   "cell_type": "code",
   "execution_count": 9,
   "id": "53fda091",
   "metadata": {},
   "outputs": [
    {
     "data": {
      "text/plain": [
       "LinearRegression()"
      ]
     },
     "execution_count": 9,
     "metadata": {},
     "output_type": "execute_result"
    }
   ],
   "source": [
    "from sklearn.linear_model import LinearRegression\n",
    "lr = LinearRegression()\n",
    "# 생성할 LinearRegression의 이름 지정 (LinearRegression 객체 생성)\n",
    "\n",
    "# 학습(X_train, y_train)\n",
    "lr.fit(X_train,y_train)\n",
    "# 학습 결과(가중치와 편향)가 lr 객체 안에 저장됨"
   ]
  },
  {
   "cell_type": "code",
   "execution_count": 12,
   "id": "3d93cfb6",
   "metadata": {},
   "outputs": [
    {
     "data": {
      "text/plain": [
       "array([ 72274.62168832, 118939.34537828])"
      ]
     },
     "execution_count": 12,
     "metadata": {},
     "output_type": "execute_result"
    }
   ],
   "source": [
    "# 새로운 x(경력)에 대한 연봉 예측하기\n",
    "# ex> 경력이 5년이면 연봉은 얼마인가?\n",
    "# 예측 -> predict\n",
    "# 학습할 때, 적용한 X_train이 2D array이므로, predict에서도 2D 형태로 입력되어야 함\n",
    "# ※ 대괄호 2개 -> 2D\n",
    "lr.predict([[5],[10]])"
   ]
  },
  {
   "cell_type": "code",
   "execution_count": 14,
   "id": "fc1d7ac7",
   "metadata": {},
   "outputs": [
    {
     "name": "stdout",
     "output_type": "stream",
     "text": [
      "[75074.50510972 91873.8056381  62008.38247653 81607.56642631\n",
      " 67608.14931932 89073.92221671]\n"
     ]
    }
   ],
   "source": [
    "# test data를 입력으로 한, 예측값\n",
    "y_pred = lr.predict(X_test)\n",
    "print(y_pred)"
   ]
  },
  {
   "cell_type": "code",
   "execution_count": 18,
   "id": "7e176853",
   "metadata": {},
   "outputs": [
    {
     "data": {
      "text/plain": [
       "array([-10,  -7,  -4,  -1,   2,   5,   8])"
      ]
     },
     "execution_count": 18,
     "metadata": {},
     "output_type": "execute_result"
    }
   ],
   "source": [
    "# np.arange(a,b,c): a부터 b까지 c 간격으로 1D array 생성 (단, b는 포함하지 않음)\n",
    "np.arange(-10,10,3)"
   ]
  },
  {
   "cell_type": "code",
   "execution_count": 22,
   "id": "f6578e85",
   "metadata": {},
   "outputs": [
    {
     "name": "stdout",
     "output_type": "stream",
     "text": [
      "[ 1  2  3  4  5  6  7  8  9 10 11 12]\n",
      "[ 34942.84273635  44275.78747434  53608.73221233  62941.67695033\n",
      "  72274.62168832  81607.56642631  90940.5111643  100273.4559023\n",
      " 109606.40064029 118939.34537828 128272.29011627 137605.23485427]\n"
     ]
    },
    {
     "data": {
      "text/plain": [
       "<matplotlib.legend.Legend at 0x1f76f953a90>"
      ]
     },
     "execution_count": 22,
     "metadata": {},
     "output_type": "execute_result"
    },
    {
     "data": {
      "image/png": "[encoded data removed]",
      "text/plain": [
       "<Figure size 640x480 with 1 Axes>"
      ]
     },
     "metadata": {},
     "output_type": "display_data"
    }
   ],
   "source": [
    "# 결과 시각화\n",
    "# 가로축 경력(년), 세로축 연봉\n",
    "plt.scatter(X_train,y_train,color='green',label='training data')\n",
    "plt.scatter(X_test,y_test,label='test data',color='orange')\n",
    "\n",
    "# 임의의 x축 값 생성\n",
    "years = np.arange(1,13,1)\n",
    "# 위 임의의 값에 대한 예측 salary값\n",
    "# ※ 입력은 2D array가 되어야 함\n",
    "salary = lr.predict(years.reshape(-1,1))\n",
    "print(years)\n",
    "print(salary)\n",
    "\n",
    "# lr model을 선차트로 시각화\n",
    "plt.plot(years,salary,color='red',label='linear regressor')\n",
    "plt.xlabel('years')\n",
    "plt.ylabel('salary')\n",
    "plt.legend() # label을 차트에 표시함"
   ]
  }
 ],
 "metadata": {
  "kernelspec": {
   "display_name": "Python 3 (ipykernel)",
   "language": "python",
   "name": "python3"
  },
  "language_info": {
   "codemirror_mode": {
    "name": "ipython",
    "version": 3
   },
   "file_extension": ".py",
   "mimetype": "text/x-python",
   "name": "python",
   "nbconvert_exporter": "python",
   "pygments_lexer": "ipython3",
   "version": "3.9.13"
  }
 },
 "nbformat": 4,
 "nbformat_minor": 5
}
