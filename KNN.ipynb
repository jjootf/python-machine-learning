{
 "cells": [
  {
   "cell_type": "code",
   "execution_count": 1,
   "id": "91d12ef5",
   "metadata": {},
   "outputs": [],
   "source": [
    "import numpy as np\n",
    "import pandas as pd\n",
    "import matplotlib.pyplot as plt"
   ]
  },
  {
   "cell_type": "code",
   "execution_count": 4,
   "id": "51cf35a9",
   "metadata": {},
   "outputs": [
    {
     "name": "stdout",
     "output_type": "stream",
     "text": [
      "[[   19 19000     0]\n",
      " [   35 20000     0]\n",
      " [   26 43000     0]\n",
      " ...\n",
      " [   50 20000     1]\n",
      " [   36 33000     0]\n",
      " [   49 36000     1]]\n"
     ]
    }
   ],
   "source": [
    "dataset = pd.read_csv('Social_Network_Ads.csv').values\n",
    "print(dataset)\n",
    "# X: age, salary\n",
    "# y: purchased\n",
    "# 나이와 연봉에 따라 자동차 구입 여부\n",
    "# 목표: 소비자의 나이와 연봉을 입력했을 때, 자동차를 구입할 것인지 예측"
   ]
  },
  {
   "cell_type": "code",
   "execution_count": 5,
   "id": "43c4064a",
   "metadata": {},
   "outputs": [],
   "source": [
    "# X와 y 분리\n",
    "# ※ X와 y에 해당하는 열의 index를 반드시 확인할 것\n",
    "# ex> y가 index=0이고 나머지가 X인 경우:\n",
    "#     y = dataset[:,0], X = dataset[:,1:]\n",
    "X = dataset[:,:-1]\n",
    "y = dataset[:,-1]"
   ]
  },
  {
   "cell_type": "code",
   "execution_count": 6,
   "id": "067d2e44",
   "metadata": {},
   "outputs": [
    {
     "name": "stdout",
     "output_type": "stream",
     "text": [
      "(300, 2) (100, 2) (300,) (100,)\n"
     ]
    }
   ],
   "source": [
    "# training과 test 데이터 분리\n",
    "from sklearn.model_selection import train_test_split\n",
    "X_train, X_test, y_train, y_test = train_test_split(X,y,test_size=0.25,random_state=1)\n",
    "print(X_train.shape, X_test.shape, y_train.shape, y_test.shape)\n",
    "# X는 age와 salary 2개의 값으로 구성됨\n",
    "# training 데이터는 300개, test 데이터는 100개"
   ]
  },
  {
   "cell_type": "code",
   "execution_count": 15,
   "id": "6557d50e",
   "metadata": {},
   "outputs": [],
   "source": [
    "# KNN의 경우, X의 거리에 의해 예측값이 결정되는데\n",
    "# X의 특징 간의 크기가 차이날 경우, 무시되는 특징이 있을 수 있으므로\n",
    "# 모든 특징을 일정한 간격으로 변경하는 스케일링 필요함\n",
    "# ex> 위의 경우, age는 18~60, salary는 30000~100000이므로,\n",
    "#     거리를 측정하면, age는 거의 무시됨\n",
    "from sklearn.preprocessing import StandardScaler\n",
    "sc = StandardScaler()\n",
    "sc.fit(X_train)\n",
    "# scaling을 위한 파라미터를 계산함 (평균, 분산 등) -> sc에 저장\n",
    "X_train_sc = sc.transform(X_train)\n",
    "# fit을 통해 계산된 파라미터를 이용하여, 실제 변환 수행"
   ]
  },
  {
   "cell_type": "code",
   "execution_count": 16,
   "id": "b80f3c42",
   "metadata": {},
   "outputs": [
    {
     "data": {
      "text/plain": [
       "KNeighborsClassifier()"
      ]
     },
     "execution_count": 16,
     "metadata": {},
     "output_type": "execute_result"
    }
   ],
   "source": [
    "from sklearn.neighbors import KNeighborsClassifier\n",
    "\n",
    "k = 5\n",
    "\n",
    "# 1. X를 scaling 하지 않은 KNN\n",
    "knn = KNeighborsClassifier(n_neighbors=k)\n",
    "# KNN의 k(n_neighbors)를 설정해야 함 (디폴트)\n",
    "knn.fit(X_train,y_train)\n",
    "\n",
    "# 2. X를 scaling한 KNN\n",
    "knn_sc = KNeighborsClassifier(n_neighbors=k)\n",
    "knn_sc.fit(X_train_sc,y_train)"
   ]
  },
  {
   "cell_type": "code",
   "execution_count": 18,
   "id": "3ece7aba",
   "metadata": {},
   "outputs": [
    {
     "name": "stderr",
     "output_type": "stream",
     "text": [
      "C:\\ProgramData\\Anaconda3\\lib\\site-packages\\sklearn\\neighbors\\_classification.py:228: FutureWarning: Unlike other reduction functions (e.g. `skew`, `kurtosis`), the default behavior of `mode` typically preserves the axis it acts along. In SciPy 1.11.0, this behavior will change: the default value of `keepdims` will become False, the `axis` over which the statistic is taken will be eliminated, and the value None will no longer be accepted. Set `keepdims` to True or False to avoid this warning.\n",
      "  mode, _ = stats.mode(_y[neigh_ind, k], axis=1)\n",
      "C:\\ProgramData\\Anaconda3\\lib\\site-packages\\sklearn\\neighbors\\_classification.py:228: FutureWarning: Unlike other reduction functions (e.g. `skew`, `kurtosis`), the default behavior of `mode` typically preserves the axis it acts along. In SciPy 1.11.0, this behavior will change: the default value of `keepdims` will become False, the `axis` over which the statistic is taken will be eliminated, and the value None will no longer be accepted. Set `keepdims` to True or False to avoid this warning.\n",
      "  mode, _ = stats.mode(_y[neigh_ind, k], axis=1)\n"
     ]
    }
   ],
   "source": [
    "# test 데이터 입력에 대한 예측값\n",
    "# 1. scaling 하지 않은 X_test에 대한 예측값\n",
    "y_pred = knn.predict(X_test)\n",
    "\n",
    "# 2. sclaing한 X_test에 대한 예측값\n",
    "# knn_sc의 경우, 학습할 때, scaling한 X를 사용하였으므로,\n",
    "# predict할 때도, scaling한 X를 입력해야 함\n",
    "X_test_sc = sc.transform(X_test)\n",
    "# test 데이터는 fit을 하지 않음, training 데이터로 fit한 결과를 이용하여 transform 수행\n",
    "y_pred_sc = knn_sc.predict(X_test_sc)\n",
    "# predict의 결과는 0 또는 1"
   ]
  },
  {
   "cell_type": "code",
   "execution_count": 19,
   "id": "b36140c4",
   "metadata": {
    "collapsed": true
   },
   "outputs": [
    {
     "name": "stdout",
     "output_type": "stream",
     "text": [
      "[[    36  33000]\n",
      " [    39  61000]\n",
      " [    36 118000]\n",
      " [    39 122000]\n",
      " [    26 118000]\n",
      " [    38  65000]\n",
      " [    20  36000]\n",
      " [    49  89000]\n",
      " [    31  18000]\n",
      " [    48 141000]\n",
      " [    34  72000]\n",
      " [    39  73000]\n",
      " [    35  72000]\n",
      " [    48 131000]\n",
      " [    53  82000]\n",
      " [    56 133000]\n",
      " [    60  83000]\n",
      " [    27  58000]\n",
      " [    28  87000]\n",
      " [    60 102000]\n",
      " [    40  75000]\n",
      " [    50  88000]\n",
      " [    44 139000]\n",
      " [    47  43000]\n",
      " [    45  26000]\n",
      " [    26  15000]\n",
      " [    58  47000]\n",
      " [    49  74000]\n",
      " [    53  34000]\n",
      " [    52 114000]\n",
      " [    39  42000]\n",
      " [    19  76000]\n",
      " [    18  86000]\n",
      " [    57  74000]\n",
      " [    27  84000]\n",
      " [    30  80000]\n",
      " [    22  18000]\n",
      " [    32  86000]\n",
      " [    50  20000]\n",
      " [    19  25000]\n",
      " [    47 144000]\n",
      " [    58 101000]\n",
      " [    34 115000]\n",
      " [    23  66000]\n",
      " [    56  60000]\n",
      " [    31 118000]\n",
      " [    48  35000]\n",
      " [    47 113000]\n",
      " [    39  79000]\n",
      " [    52  38000]\n",
      " [    24  58000]\n",
      " [    37  53000]\n",
      " [    42  80000]\n",
      " [    46  28000]\n",
      " [    42  73000]\n",
      " [    37  62000]\n",
      " [    60  42000]\n",
      " [    36  52000]\n",
      " [    58  95000]\n",
      " [    43 129000]\n",
      " [    27  89000]\n",
      " [    23  82000]\n",
      " [    38 112000]\n",
      " [    35  50000]\n",
      " [    36  99000]\n",
      " [    37 144000]\n",
      " [    26  35000]\n",
      " [    42  70000]\n",
      " [    43 133000]\n",
      " [    38  50000]\n",
      " [    46  96000]\n",
      " [    35  44000]\n",
      " [    38 113000]\n",
      " [    39  71000]\n",
      " [    26  52000]\n",
      " [    54 108000]\n",
      " [    33  51000]\n",
      " [    26  16000]\n",
      " [    30  87000]\n",
      " [    35  60000]\n",
      " [    29  28000]\n",
      " [    45  22000]\n",
      " [    46 117000]\n",
      " [    32  18000]\n",
      " [    22  81000]\n",
      " [    25  87000]\n",
      " [    48  33000]\n",
      " [    35  58000]\n",
      " [    47  23000]\n",
      " [    26  32000]\n",
      " [    32 135000]\n",
      " [    60  34000]\n",
      " [    52  21000]\n",
      " [    38  55000]\n",
      " [    25  90000]\n",
      " [    58  38000]\n",
      " [    49  88000]\n",
      " [    37  78000]\n",
      " [    35  77000]\n",
      " [    34  43000]]\n",
      "[[-2.89053269e-01 -1.11810479e+00]\n",
      " [-1.89100270e-02 -3.15568669e-01]\n",
      " [-2.89053269e-01  1.31816558e+00]\n",
      " [-1.89100270e-02  1.43281360e+00]\n",
      " [-1.18953074e+00  1.31816558e+00]\n",
      " [-1.08957774e-01 -2.00920651e-01]\n",
      " [-1.72981723e+00 -1.03211878e+00]\n",
      " [ 8.81567447e-01  4.86967455e-01]\n",
      " [-7.39292006e-01 -1.54803486e+00]\n",
      " [ 7.91519700e-01  1.97739168e+00]\n",
      " [-4.69148764e-01 -2.86620044e-04]\n",
      " [-1.89100270e-02  2.83753844e-02]\n",
      " [-3.79101017e-01 -2.86620044e-04]\n",
      " [ 7.91519700e-01  1.69077164e+00]\n",
      " [ 1.24175844e+00  2.86333424e-01]\n",
      " [ 1.51190168e+00  1.74809565e+00]\n",
      " [ 1.87209267e+00  3.14995428e-01]\n",
      " [-1.09948300e+00 -4.01554682e-01]\n",
      " [-1.00943525e+00  4.29643446e-01]\n",
      " [ 1.87209267e+00  8.59573512e-01]\n",
      " [ 7.11377205e-02  8.56993932e-02]\n",
      " [ 9.71615195e-01  4.58305450e-01]\n",
      " [ 4.31328710e-01  1.92006768e+00]\n",
      " [ 7.01471952e-01 -8.31484748e-01]\n",
      " [ 5.21376458e-01 -1.31873882e+00]\n",
      " [-1.18953074e+00 -1.63402087e+00]\n",
      " [ 1.69199717e+00 -7.16836730e-01]\n",
      " [ 8.81567447e-01  5.70373888e-02]\n",
      " [ 1.24175844e+00 -1.08944279e+00]\n",
      " [ 1.15171069e+00  1.20351757e+00]\n",
      " [-1.89100270e-02 -8.60146752e-01]\n",
      " [-1.81986498e+00  1.14361398e-01]\n",
      " [-1.90991272e+00  4.00981442e-01]\n",
      " [ 1.60194943e+00  5.70373888e-02]\n",
      " [-1.09948300e+00  3.43657433e-01]\n",
      " [-8.29339754e-01  2.29009415e-01]\n",
      " [-1.54972173e+00 -1.54803486e+00]\n",
      " [-6.49244259e-01  4.00981442e-01]\n",
      " [ 9.71615195e-01 -1.49071085e+00]\n",
      " [-1.81986498e+00 -1.34740083e+00]\n",
      " [ 7.01471952e-01  2.06337770e+00]\n",
      " [ 1.69199717e+00  8.30911508e-01]\n",
      " [-4.69148764e-01  1.23217957e+00]\n",
      " [-1.45967399e+00 -1.72258646e-01]\n",
      " [ 1.51190168e+00 -3.44230673e-01]\n",
      " [-7.39292006e-01  1.31816558e+00]\n",
      " [ 7.91519700e-01 -1.06078078e+00]\n",
      " [ 7.01471952e-01  1.17485556e+00]\n",
      " [-1.89100270e-02  2.00347411e-01]\n",
      " [ 1.15171069e+00 -9.74794770e-01]\n",
      " [-1.36962624e+00 -4.01554682e-01]\n",
      " [-1.99005522e-01 -5.44864704e-01]\n",
      " [ 2.51233215e-01  2.29009415e-01]\n",
      " [ 6.11424205e-01 -1.26141481e+00]\n",
      " [ 2.51233215e-01  2.83753844e-02]\n",
      " [-1.99005522e-01 -2.86906664e-01]\n",
      " [ 1.87209267e+00 -8.60146752e-01]\n",
      " [-2.89053269e-01 -5.73526708e-01]\n",
      " [ 1.69199717e+00  6.58939481e-01]\n",
      " [ 3.41280963e-01  1.63344763e+00]\n",
      " [-1.09948300e+00  4.86967455e-01]\n",
      " [-1.45967399e+00  2.86333424e-01]\n",
      " [-1.08957774e-01  1.14619356e+00]\n",
      " [-3.79101017e-01 -6.30850717e-01]\n",
      " [-2.89053269e-01  7.73587499e-01]\n",
      " [-1.99005522e-01  2.06337770e+00]\n",
      " [-1.18953074e+00 -1.06078078e+00]\n",
      " [ 2.51233215e-01 -5.76106289e-02]\n",
      " [ 3.41280963e-01  1.74809565e+00]\n",
      " [-1.08957774e-01 -6.30850717e-01]\n",
      " [ 6.11424205e-01  6.87601486e-01]\n",
      " [-3.79101017e-01 -8.02822743e-01]\n",
      " [-1.08957774e-01  1.17485556e+00]\n",
      " [-1.89100270e-02 -2.89486244e-02]\n",
      " [-1.18953074e+00 -5.73526708e-01]\n",
      " [ 1.33180618e+00  1.03154554e+00]\n",
      " [-5.59196511e-01 -6.02188713e-01]\n",
      " [-1.18953074e+00 -1.60535887e+00]\n",
      " [-8.29339754e-01  4.29643446e-01]\n",
      " [-3.79101017e-01 -3.44230673e-01]\n",
      " [-9.19387501e-01 -1.26141481e+00]\n",
      " [ 5.21376458e-01 -1.43338684e+00]\n",
      " [ 6.11424205e-01  1.28950358e+00]\n",
      " [-6.49244259e-01 -1.54803486e+00]\n",
      " [-1.54972173e+00  2.57671420e-01]\n",
      " [-1.27957849e+00  4.29643446e-01]\n",
      " [ 7.91519700e-01 -1.11810479e+00]\n",
      " [-3.79101017e-01 -4.01554682e-01]\n",
      " [ 7.01471952e-01 -1.40472484e+00]\n",
      " [-1.18953074e+00 -1.14676680e+00]\n",
      " [-6.49244259e-01  1.80541966e+00]\n",
      " [ 1.87209267e+00 -1.08944279e+00]\n",
      " [ 1.15171069e+00 -1.46204884e+00]\n",
      " [-1.08957774e-01 -4.87540695e-01]\n",
      " [-1.27957849e+00  5.15629459e-01]\n",
      " [ 1.69199717e+00 -9.74794770e-01]\n",
      " [ 8.81567447e-01  4.58305450e-01]\n",
      " [-1.99005522e-01  1.71685406e-01]\n",
      " [-3.79101017e-01  1.43023402e-01]\n",
      " [-4.69148764e-01 -8.31484748e-01]]\n"
     ]
    }
   ],
   "source": [
    "# X_test와 scaling한 X_test_sc\n",
    "print(X_test)\n",
    "print(X_test_sc)"
   ]
  },
  {
   "cell_type": "code",
   "execution_count": 20,
   "id": "f3622cf7",
   "metadata": {},
   "outputs": [
    {
     "name": "stdout",
     "output_type": "stream",
     "text": [
      "0.75\n",
      "0.88\n"
     ]
    }
   ],
   "source": [
    "# X_test에 대한 예측값(y_pred)과 실제 값(y_test)를 이용하여 정확도 계산\n",
    "from sklearn.metrics import accuracy_score\n",
    "acc = accuracy_score(y_test,y_pred)\n",
    "print(acc)\n",
    "\n",
    "acc_sc = accuracy_score(y_test,y_pred_sc)\n",
    "print(acc_sc)"
   ]
  },
  {
   "cell_type": "markdown",
   "id": "cc9af98f",
   "metadata": {},
   "source": [
    "### 시각화"
   ]
  },
  {
   "cell_type": "code",
   "execution_count": 21,
   "id": "48fd2bfb",
   "metadata": {},
   "outputs": [],
   "source": [
    "# 실제 y값이 0인 X 데이터와 1인 X 데이터 분리\n",
    "# ndarray[조건식]: 조건식을 만족하는 데이터만 반환\n",
    "X_test0 = X_test[y_test==0,:] # y_test가 0인 X_test\n",
    "X_test1 = X_test[y_test==1,:] # y_test가 1인 X_test\n",
    "\n",
    "# 예측값이 0인 X와 1인 X 데이터 분리\n",
    "X_test_pred0 = X_test[y_pred_sc==0,:] # y_pred_sc가 0인 X_test\n",
    "X_test_pred1 = X_test[y_pred_sc==1,:] # y_pred_sc가 1인 X_test"
   ]
  },
  {
   "cell_type": "code",
   "execution_count": 31,
   "id": "b2ec04e0",
   "metadata": {},
   "outputs": [
    {
     "data": {
      "text/plain": [
       "<matplotlib.legend.Legend at 0x1f1c29f6460>"
      ]
     },
     "execution_count": 31,
     "metadata": {},
     "output_type": "execute_result"
    },
    {
     "data": {
      "image/png": "[encoded data removed]",
      "text/plain": [
       "<Figure size 640x480 with 1 Axes>"
      ]
     },
     "metadata": {},
     "output_type": "display_data"
    }
   ],
   "source": [
    "# X_test[:,0]: Age, X_test[:,1]: salary\n",
    "\n",
    "# y_test 값에 따른 X_test plot(산점도)\n",
    "plt.scatter(X_test0[:,0],X_test0[:,1],color='blue',marker='s',s=100,alpha=0.3,\n",
    "           label='Class 0')\n",
    "# color: 색상, marker: 마커 모양(s:사각형), s: 마커크기, alpha: 투명도\n",
    "plt.scatter(X_test1[:,0],X_test1[:,1],color='red',marker='o',s=100,alpha=0.3,\n",
    "           label='Class 1')\n",
    "\n",
    "# y_pred_sc 값에 따른 X_test plot(산점도)\n",
    "plt.scatter(X_test_pred0[:,0],X_test_pred0[:,1],color='blue',marker='s',s=10,\n",
    "           label='Prediction 0')\n",
    "plt.scatter(X_test_pred1[:,0],X_test_pred1[:,1],color='red',marker='o',s=10,\n",
    "           label='Prediction 1')\n",
    "\n",
    "plt.xlabel('Age')\n",
    "plt.ylabel('Salary')\n",
    "plt.title('KNN',color='red',fontsize=20)\n",
    "plt.grid()\n",
    "plt.legend()"
   ]
  }
 ],
 "metadata": {
  "kernelspec": {
   "display_name": "Python 3 (ipykernel)",
   "language": "python",
   "name": "python3"
  },
  "language_info": {
   "codemirror_mode": {
    "name": "ipython",
    "version": 3
   },
   "file_extension": ".py",
   "mimetype": "text/x-python",
   "name": "python",
   "nbconvert_exporter": "python",
   "pygments_lexer": "ipython3",
   "version": "3.9.13"
  }
 },
 "nbformat": 4,
 "nbformat_minor": 5
}
