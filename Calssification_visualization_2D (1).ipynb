{
 "cells": [
  {
   "cell_type": "code",
   "execution_count": 2,
   "id": "42b2f2c5",
   "metadata": {},
   "outputs": [],
   "source": [
    "import matplotlib.pyplot as plt\n",
    "import numpy as np"
   ]
  },
  {
   "cell_type": "code",
   "execution_count": 3,
   "id": "dc7aee83",
   "metadata": {},
   "outputs": [
    {
     "name": "stdout",
     "output_type": "stream",
     "text": [
      "[ 1  2  3  4  5  6  7  8  9 10] [-10  -9  -8  -7  -6]\n"
     ]
    }
   ],
   "source": [
    "x = np.arange(1,11,1)\n",
    "# 1부터 11까지 1간격 (단, 11제외)\n",
    "y = np.arange(-10,-5,1)\n",
    "# -10부터 -5까지 1간격 (단, -5제외)\n",
    "print(x,y)"
   ]
  },
  {
   "cell_type": "code",
   "execution_count": 5,
   "id": "7823ce5d",
   "metadata": {},
   "outputs": [
    {
     "name": "stdout",
     "output_type": "stream",
     "text": [
      "[ 1.  2.  3.  4.  5.  6.  7.  8.  9. 10.] [-10.  -9.  -8.  -7.  -6.]\n"
     ]
    }
   ],
   "source": [
    "x = np.linspace(1,10,10)\n",
    "# 1부터 10까지 동일한 간격으로 10개 생성\n",
    "y = np.linspace(-10,-6,5)\n",
    "# -10부터 -6까지 동일한 간격으로 5개 생성\n",
    "print(x,y)"
   ]
  },
  {
   "cell_type": "code",
   "execution_count": 7,
   "id": "87ca9f1f",
   "metadata": {},
   "outputs": [
    {
     "name": "stdout",
     "output_type": "stream",
     "text": [
      "[[ 1.  2.  3.  4.  5.  6.  7.  8.  9. 10.]\n",
      " [ 1.  2.  3.  4.  5.  6.  7.  8.  9. 10.]\n",
      " [ 1.  2.  3.  4.  5.  6.  7.  8.  9. 10.]\n",
      " [ 1.  2.  3.  4.  5.  6.  7.  8.  9. 10.]\n",
      " [ 1.  2.  3.  4.  5.  6.  7.  8.  9. 10.]]\n",
      "[[-10. -10. -10. -10. -10. -10. -10. -10. -10. -10.]\n",
      " [ -9.  -9.  -9.  -9.  -9.  -9.  -9.  -9.  -9.  -9.]\n",
      " [ -8.  -8.  -8.  -8.  -8.  -8.  -8.  -8.  -8.  -8.]\n",
      " [ -7.  -7.  -7.  -7.  -7.  -7.  -7.  -7.  -7.  -7.]\n",
      " [ -6.  -6.  -6.  -6.  -6.  -6.  -6.  -6.  -6.  -6.]]\n",
      "(5, 10) (5, 10)\n"
     ]
    }
   ],
   "source": [
    "X,Y = np.meshgrid(x,y)\n",
    "print(X)\n",
    "print(Y)\n",
    "print(X.shape, Y.shape)"
   ]
  },
  {
   "cell_type": "code",
   "execution_count": 9,
   "id": "f170b73e",
   "metadata": {},
   "outputs": [
    {
     "data": {
      "text/plain": [
       "<matplotlib.collections.PathCollection at 0x1eefb9727f0>"
      ]
     },
     "execution_count": 9,
     "metadata": {},
     "output_type": "execute_result"
    },
    {
     "data": {
      "image/png": "[encoded data removed]",
      "text/plain": [
       "<Figure size 400x300 with 1 Axes>"
      ]
     },
     "metadata": {},
     "output_type": "display_data"
    }
   ],
   "source": [
    "plt.figure(figsize=(4,3))\n",
    "plt.scatter(X,Y)"
   ]
  },
  {
   "cell_type": "code",
   "execution_count": 16,
   "id": "008c2983",
   "metadata": {},
   "outputs": [
    {
     "data": {
      "text/plain": [
       "<matplotlib.collections.PathCollection at 0x1eefcd12880>"
      ]
     },
     "execution_count": 16,
     "metadata": {},
     "output_type": "execute_result"
    },
    {
     "data": {
      "image/png": "[encoded data removed]",
      "text/plain": [
       "<Figure size 400x300 with 2 Axes>"
      ]
     },
     "metadata": {},
     "output_type": "display_data"
    }
   ],
   "source": [
    "x = np.linspace(1,5,5)\n",
    "y = np.linspace(1,5,5)\n",
    "X,Y = np.meshgrid(x,y)\n",
    "# x = 1,2,3,4,5\n",
    "# y = 1,2,3,4,5\n",
    "# X와 Y는 각각 25개(좌표) 생성\n",
    "# Z: 각 좌표에 대응되는 값, 2D array\n",
    "Z = [[9,9,9,9,9],\n",
    "     [9,5,5,5,9],\n",
    "     [9,5,1,5,9],\n",
    "     [9,5,5,5,9],\n",
    "     [9,9,9,9,9]]\n",
    "plt.figure(figsize=(4,3))\n",
    "plt.contourf(X,Y,Z,cmap='pink')\n",
    "plt.colorbar()\n",
    "plt.scatter(X,Y)\n",
    "# contourf(X,Y,Z,cmap): (X,Y)위치에 대응되는 Z값에 따라 cmap의 색상을 채움"
   ]
  },
  {
   "cell_type": "code",
   "execution_count": null,
   "id": "18478801",
   "metadata": {},
   "outputs": [],
   "source": []
  }
 ],
 "metadata": {
  "kernelspec": {
   "display_name": "Python 3 (ipykernel)",
   "language": "python",
   "name": "python3"
  },
  "language_info": {
   "codemirror_mode": {
    "name": "ipython",
    "version": 3
   },
   "file_extension": ".py",
   "mimetype": "text/x-python",
   "name": "python",
   "nbconvert_exporter": "python",
   "pygments_lexer": "ipython3",
   "version": "3.9.13"
  }
 },
 "nbformat": 4,
 "nbformat_minor": 5
}
