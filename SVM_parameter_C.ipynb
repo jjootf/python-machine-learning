{
 "cells": [
  {
   "cell_type": "code",
   "execution_count": 14,
   "id": "ffb8287e",
   "metadata": {},
   "outputs": [],
   "source": [
    "import numpy as np\n",
    "import pandas as pd\n",
    "import matplotlib.pyplot as plt"
   ]
  },
  {
   "cell_type": "code",
   "execution_count": 64,
   "id": "ff1f6b49",
   "metadata": {},
   "outputs": [],
   "source": [
    "dataset = pd.read_csv('classification_data/Social_Network_Ads.csv').values"
   ]
  },
  {
   "cell_type": "code",
   "execution_count": 65,
   "id": "18c2970b",
   "metadata": {},
   "outputs": [],
   "source": [
    "X = dataset[:,:-1]\n",
    "y = dataset[:,-1]"
   ]
  },
  {
   "cell_type": "code",
   "execution_count": 66,
   "id": "7cdb89a4",
   "metadata": {},
   "outputs": [],
   "source": [
    "from sklearn.model_selection import train_test_split\n",
    "X_train, X_test, y_train, y_test = train_test_split(X,y,test_size=0.25,random_state=10)"
   ]
  },
  {
   "cell_type": "code",
   "execution_count": 67,
   "id": "05536bbb",
   "metadata": {},
   "outputs": [],
   "source": [
    "from sklearn.preprocessing import StandardScaler\n",
    "sc = StandardScaler()\n",
    "sc.fit(X_train)\n",
    "X_train_sc = sc.transform(X_train)"
   ]
  },
  {
   "cell_type": "markdown",
   "id": "27eca814",
   "metadata": {},
   "source": [
    "### SVM"
   ]
  },
  {
   "cell_type": "code",
   "execution_count": 84,
   "id": "bf5b1d12",
   "metadata": {},
   "outputs": [
    {
     "data": {
      "text/plain": [
       "SVC(C=1000, coef0=1, kernel='poly')"
      ]
     },
     "execution_count": 84,
     "metadata": {},
     "output_type": "execute_result"
    }
   ],
   "source": [
    "from sklearn.svm import SVC\n",
    "svm_poly = SVC(kernel='poly',degree=3,C=1000,coef0=1)\n",
    "svm_poly.fit(X_train_sc,y_train)"
   ]
  },
  {
   "cell_type": "code",
   "execution_count": 85,
   "id": "2f44d181",
   "metadata": {},
   "outputs": [],
   "source": [
    "X_test_sc = sc.transform(X_test)\n",
    "y_pred_poly = svm_poly.predict(X_test_sc)"
   ]
  },
  {
   "cell_type": "code",
   "execution_count": 86,
   "id": "9ed7c1ff",
   "metadata": {},
   "outputs": [
    {
     "name": "stdout",
     "output_type": "stream",
     "text": [
      "Polynomial SVM train accuracy:  91.0\n",
      "Polynomial SVM test accuracy:  93.0\n"
     ]
    }
   ],
   "source": [
    "from sklearn.metrics import accuracy_score\n",
    "acc_poly = accuracy_score(y_test,y_pred_poly)\n",
    "print('Polynomial SVM train accuracy: ',accuracy_score(y_train,svm_poly.predict(X_train_sc))*100)\n",
    "# svm_poly.predict(X_train_sc)은 X_train_sc에 대한 예측값\n",
    "print('Polynomial SVM test accuracy: ', acc_poly*100)"
   ]
  },
  {
   "cell_type": "code",
   "execution_count": 87,
   "id": "1adaaa78",
   "metadata": {},
   "outputs": [
    {
     "data": {
      "text/plain": [
       "(100,)"
      ]
     },
     "execution_count": 87,
     "metadata": {},
     "output_type": "execute_result"
    }
   ],
   "source": [
    "y_pred_poly.shape"
   ]
  },
  {
   "cell_type": "code",
   "execution_count": 88,
   "id": "b7bd5d4d",
   "metadata": {
    "scrolled": false
   },
   "outputs": [
    {
     "name": "stdout",
     "output_type": "stream",
     "text": [
      "[[ 8.01035595e-01  3.46884767e-01]\n",
      " [ 1.38102919e+00  1.26832743e+00]\n",
      " [-5.52282788e-01  1.35471267e+00]\n",
      " [ 4.14373200e-01  2.89294601e-01]\n",
      " [ 3.17707601e-01  5.89339367e-02]\n",
      " [ 8.01035595e-01  7.50015930e-01]\n",
      " [-6.48948387e-01  5.48450349e-01]\n",
      " [ 3.17707601e-01  2.60499518e-01]\n",
      " [ 8.01035595e-01  1.16524103e-01]\n",
      " [-2.62285991e-01  5.19655266e-01]\n",
      " [-1.03561078e+00  5.48450349e-01]\n",
      " [ 4.14373200e-01  1.34377054e-03]\n",
      " [ 5.11038799e-01  1.81543400e+00]\n",
      " [-7.45613985e-01  1.32591759e+00]\n",
      " [ 2.21042003e-01  2.31704435e-01]\n",
      " [-3.58951590e-01  1.29712251e+00]\n",
      " [ 1.24376404e-01  2.60499518e-01]\n",
      " [ 4.14373200e-01  1.45319186e-01]\n",
      " [ 1.18769799e+00 -7.47328389e-01]\n",
      " [ 3.17707601e-01  5.89339367e-02]\n",
      " [ 8.01035595e-01 -1.38082022e+00]\n",
      " [ 1.09103239e+00  1.16524103e-01]\n",
      " [-2.62285991e-01  1.09555693e+00]\n",
      " [ 3.17707601e-01  2.89294601e-01]\n",
      " [ 2.77108050e-02  1.21073726e+00]\n",
      " [-7.45613985e-01  5.48450349e-01]\n",
      " [ 1.28436359e+00  1.84422909e+00]\n",
      " [ 6.07704398e-01 -8.91303805e-01]\n",
      " [ 9.94366793e-01  2.04579467e+00]\n",
      " [ 1.09103239e+00 -1.42631645e-01]\n",
      " [ 4.14373200e-01  2.60499518e-01]\n",
      " [ 3.17707601e-01  5.89339367e-02]\n",
      " [-4.55617189e-01  1.23953234e+00]\n",
      " [ 8.01035595e-01 -3.15402143e-01]\n",
      " [ 7.04369997e-01 -1.26563988e+00]\n",
      " [-2.62285991e-01  7.78811013e-01]\n",
      " [ 7.04369997e-01 -1.09286939e+00]\n",
      " [ 1.09103239e+00  5.48450349e-01]\n",
      " [ 1.28436359e+00  2.18977008e+00]\n",
      " [-1.03561078e+00  7.50015930e-01]\n",
      " [ 8.97701194e-01 -5.45762808e-01]\n",
      " [ 1.38102919e+00  2.30495042e+00]\n",
      " [ 8.97701194e-01 -6.03352974e-01]\n",
      " [ 1.18769799e+00  5.19655266e-01]\n",
      " [-3.58951590e-01  1.21073726e+00]\n",
      " [ 9.94366793e-01  1.16524103e-01]\n",
      " [ 4.14373200e-01  2.27615533e+00]\n",
      " [ 4.14373200e-01  8.77290198e-02]\n",
      " [-6.89547938e-02  1.34377054e-03]\n",
      " [-5.52282788e-01  8.65196263e-01]\n",
      " [ 1.24376404e-01  1.45319186e-01]\n",
      " [ 2.21042003e-01  3.01388536e-02]\n",
      " [-7.45613985e-01  1.06676184e+00]\n",
      " [ 2.77108050e-02  1.23953234e+00]\n",
      " [ 4.14373200e-01  9.80376595e-01]\n",
      " [-5.52282788e-01  2.30495042e+00]\n",
      " [ 4.14373200e-01  2.89294601e-01]\n",
      " [ 1.09103239e+00  5.19655266e-01]\n",
      " [-1.65620393e-01  8.36401180e-01]\n",
      " [ 1.09103239e+00  4.62065100e-01]\n",
      " [ 1.24376404e-01  1.03796676e+00]\n",
      " [-6.89547938e-02  6.63630681e-01]\n",
      " [ 8.01035595e-01  2.60499518e-01]\n",
      " [ 2.21042003e-01  1.06676184e+00]\n",
      " [ 3.17707601e-01  4.90860183e-01]\n",
      " [-6.89547938e-02  2.31704435e-01]\n",
      " [ 8.01035595e-01 -1.09286939e+00]\n",
      " [ 8.97701194e-01  1.00917168e+00]\n",
      " [ 8.01035595e-01 -8.33713639e-01]\n",
      " [-2.62285991e-01  6.06040515e-01]\n",
      " [ 4.14373200e-01  1.09555693e+00]]\n",
      "71\n",
      "[[-1000.         -1000.         -1000.         -1000.\n",
      "   -676.25643435 -1000.         -1000.         -1000.\n",
      "  -1000.         -1000.          -226.43495527 -1000.\n",
      "  -1000.         -1000.         -1000.         -1000.\n",
      "  -1000.         -1000.         -1000.         -1000.\n",
      "  -1000.         -1000.         -1000.         -1000.\n",
      "  -1000.         -1000.         -1000.         -1000.\n",
      "  -1000.         -1000.         -1000.         -1000.\n",
      "  -1000.         -1000.           302.0697875   1000.\n",
      "   1000.          1000.           241.69630419  1000.\n",
      "   1000.          1000.          1000.           756.82358941\n",
      "   1000.          1000.           237.02326883  1000.\n",
      "   1000.          1000.          1000.          1000.\n",
      "   1000.           314.15541171  1000.           496.73351819\n",
      "   1000.          1000.          1000.          1000.\n",
      "   1000.          1000.          1000.          1000.\n",
      "   1000.          1000.           744.73532258   809.45418723\n",
      "   1000.          1000.          1000.        ]]\n"
     ]
    }
   ],
   "source": [
    "# SVM의 attribute\n",
    "# 1. support vector\n",
    "print(svm_poly.support_vectors_)\n",
    "# 2. support vector의 수\n",
    "print(len(svm_poly.support_vectors_))\n",
    "# 3. lagrange multiplier\n",
    "print(svm_poly.dual_coef_)\n",
    "\n",
    "# SVM의 파라미터 C를 증가시키면, 학습 데이터의 에러 발생에 가중치가 커짐\n",
    "# 즉, 정확히 분류된 데이터의 수가 증가한다.\n",
    "# Support vector는 정확히 분류된 데이터는 포함하지 않으므로\n",
    "# C가 커질 수 록, Support vector의 수는 적어진다.\n",
    "\n",
    "# linear SVM으로 해보는 것을 추천"
   ]
  }
 ],
 "metadata": {
  "kernelspec": {
   "display_name": "Python 3 (ipykernel)",
   "language": "python",
   "name": "python3"
  },
  "language_info": {
   "codemirror_mode": {
    "name": "ipython",
    "version": 3
   },
   "file_extension": ".py",
   "mimetype": "text/x-python",
   "name": "python",
   "nbconvert_exporter": "python",
   "pygments_lexer": "ipython3",
   "version": "3.9.13"
  }
 },
 "nbformat": 4,
 "nbformat_minor": 5
}
