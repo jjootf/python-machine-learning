{
 "cells": [
  {
   "cell_type": "markdown",
   "id": "98d67717",
   "metadata": {},
   "source": [
    "#### multiple linear regression: y = w0 + w1x1 + w2x2 + .... 형태"
   ]
  },
  {
   "cell_type": "code",
   "execution_count": 1,
   "id": "94d33fde",
   "metadata": {},
   "outputs": [],
   "source": [
    "import numpy as np\n",
    "import pandas as pd\n",
    "import matplotlib.pyplot as plt"
   ]
  },
  {
   "cell_type": "code",
   "execution_count": 2,
   "id": "334ec42d",
   "metadata": {
    "collapsed": true
   },
   "outputs": [
    {
     "name": "stdout",
     "output_type": "stream",
     "text": [
      "[[165349.2 136897.8 471784.1 'New York' 192261.83]\n",
      " [162597.7 151377.59 443898.53 'California' 191792.06]\n",
      " [153441.51 101145.55 407934.54 'Florida' 191050.39]\n",
      " [144372.41 118671.85 383199.62 'New York' 182901.99]\n",
      " [142107.34 91391.77 366168.42 'Florida' 166187.94]\n",
      " [131876.9 99814.71 362861.36 'New York' 156991.12]\n",
      " [134615.46 147198.87 127716.82 'California' 156122.51]\n",
      " [130298.13 145530.06 323876.68 'Florida' 155752.6]\n",
      " [120542.52 148718.95 311613.29 'New York' 152211.77]\n",
      " [123334.88 108679.17 304981.62 'California' 149759.96]\n",
      " [101913.08 110594.11 229160.95 'Florida' 146121.95]\n",
      " [100671.96 91790.61 249744.55 'California' 144259.4]\n",
      " [93863.75 127320.38 249839.44 'Florida' 141585.52]\n",
      " [91992.39 135495.07 252664.93 'California' 134307.35]\n",
      " [119943.24 156547.42 256512.92 'Florida' 132602.65]\n",
      " [114523.61 122616.84 261776.23 'New York' 129917.04]\n",
      " [78013.11 121597.55 264346.06 'California' 126992.93]\n",
      " [94657.16 145077.58 282574.31 'New York' 125370.37]\n",
      " [91749.16 114175.79 294919.57 'Florida' 124266.9]\n",
      " [86419.7 153514.11 0.0 'New York' 122776.86]\n",
      " [76253.86 113867.3 298664.47 'California' 118474.03]\n",
      " [78389.47 153773.43 299737.29 'New York' 111313.02]\n",
      " [73994.56 122782.75 303319.26 'Florida' 110352.25]\n",
      " [67532.53 105751.03 304768.73 'Florida' 108733.99]\n",
      " [77044.01 99281.34 140574.81 'New York' 108552.04]\n",
      " [64664.71 139553.16 137962.62 'California' 107404.34]\n",
      " [75328.87 144135.98 134050.07 'Florida' 105733.54]\n",
      " [72107.6 127864.55 353183.81 'New York' 105008.31]\n",
      " [66051.52 182645.56 118148.2 'Florida' 103282.38]\n",
      " [65605.48 153032.06 107138.38 'New York' 101004.64]\n",
      " [61994.48 115641.28 91131.24 'Florida' 99937.59]\n",
      " [61136.38 152701.92 88218.23 'New York' 97483.56]\n",
      " [63408.86 129219.61 46085.25 'California' 97427.84]\n",
      " [55493.95 103057.49 214634.81 'Florida' 96778.92]\n",
      " [46426.07 157693.92 210797.67 'California' 96712.8]\n",
      " [46014.02 85047.44 205517.64 'New York' 96479.51]\n",
      " [28663.76 127056.21 201126.82 'Florida' 90708.19]\n",
      " [44069.95 51283.14 197029.42 'California' 89949.14]\n",
      " [20229.59 65947.93 185265.1 'New York' 81229.06]\n",
      " [38558.51 82982.09 174999.3 'California' 81005.76]\n",
      " [28754.33 118546.05 172795.67 'California' 78239.91]\n",
      " [27892.92 84710.77 164470.71 'Florida' 77798.83]\n",
      " [23640.93 96189.63 148001.11 'California' 71498.49]\n",
      " [15505.73 127382.3 35534.17 'New York' 69758.98]\n",
      " [22177.74 154806.14 28334.72 'California' 65200.33]\n",
      " [1000.23 124153.04 1903.93 'New York' 64926.08]\n",
      " [1315.46 115816.21 297114.46 'Florida' 49490.75]\n",
      " [0.0 135426.92 0.0 'California' 42559.73]\n",
      " [542.05 51743.15 0.0 'New York' 35673.41]\n",
      " [0.0 116983.8 45173.06 'California' 14681.4]]\n",
      "(50, 5)\n"
     ]
    }
   ],
   "source": [
    "dataset = pd.read_csv('regerssion_data/50_Startups.csv').values\n",
    "print(dataset)\n",
    "print(dataset.shape)"
   ]
  },
  {
   "cell_type": "code",
   "execution_count": 3,
   "id": "9756ef9f",
   "metadata": {},
   "outputs": [
    {
     "name": "stdout",
     "output_type": "stream",
     "text": [
      "(50, 3) (50,)\n"
     ]
    }
   ],
   "source": [
    "# X는 첫 3개의 열 (R&D Spend, Administration, Marketing Spend), State는 제외\n",
    "X = dataset[:,:-2]\n",
    "# index -2는 마지막으로부터 두번째 index를 의미함\n",
    "\n",
    "# y는 마지막 열(Profit)\n",
    "y = dataset[:,-1]\n",
    "print(X.shape, y.shape)\n",
    "\n",
    "# R&D, Administration, Marketing 투자 비용을 입력으로 하여, \n",
    "# 기업의 Profit(이익)을 예측함"
   ]
  },
  {
   "cell_type": "code",
   "execution_count": 4,
   "id": "423fd2d3",
   "metadata": {},
   "outputs": [],
   "source": [
    "from sklearn.model_selection import train_test_split\n",
    "X_train,X_test,y_train,y_test = train_test_split(X,y,test_size=0.2,random_state=1)"
   ]
  },
  {
   "cell_type": "code",
   "execution_count": 5,
   "id": "06a7f94b",
   "metadata": {},
   "outputs": [
    {
     "name": "stdout",
     "output_type": "stream",
     "text": [
      "(40, 3) (10, 3) (40,) (10,)\n"
     ]
    }
   ],
   "source": [
    "print(X_train.shape, X_test.shape, y_train.shape, y_test.shape)"
   ]
  },
  {
   "cell_type": "markdown",
   "id": "fa739cf5",
   "metadata": {},
   "source": [
    "## Linear regression model 생성"
   ]
  },
  {
   "cell_type": "code",
   "execution_count": 8,
   "id": "01330b96",
   "metadata": {},
   "outputs": [
    {
     "data": {
      "text/plain": [
       "LinearRegression()"
      ]
     },
     "execution_count": 8,
     "metadata": {},
     "output_type": "execute_result"
    }
   ],
   "source": [
    "from sklearn.linear_model import LinearRegression\n",
    "lr = LinearRegression()\n",
    "\n",
    "lr.fit(X_train,y_train)"
   ]
  },
  {
   "cell_type": "code",
   "execution_count": 9,
   "id": "e64bb13d",
   "metadata": {},
   "outputs": [
    {
     "data": {
      "text/plain": [
       "array([170782.12215042])"
      ]
     },
     "execution_count": 9,
     "metadata": {},
     "output_type": "execute_result"
    }
   ],
   "source": [
    "# R&D에 150000, Administration에 100000, Marketing에 200000를 투자했을 때, 이익은?\n",
    "lr.predict([[150000,100000,200000]])"
   ]
  },
  {
   "cell_type": "code",
   "execution_count": 10,
   "id": "68854b5d",
   "metadata": {},
   "outputs": [
    {
     "name": "stdout",
     "output_type": "stream",
     "text": [
      "[114729.00768236  90569.03231312  75952.34861633  70179.81117586\n",
      " 179539.15187896 171638.15637459  49624.94193162 102253.12475568\n",
      "  58381.67907     98240.74724733]\n"
     ]
    }
   ],
   "source": [
    "y_pred = lr.predict(X_test)\n",
    "print(y_pred)"
   ]
  }
 ],
 "metadata": {
  "kernelspec": {
   "display_name": "Python 3 (ipykernel)",
   "language": "python",
   "name": "python3"
  },
  "language_info": {
   "codemirror_mode": {
    "name": "ipython",
    "version": 3
   },
   "file_extension": ".py",
   "mimetype": "text/x-python",
   "name": "python",
   "nbconvert_exporter": "python",
   "pygments_lexer": "ipython3",
   "version": "3.9.13"
  }
 },
 "nbformat": 4,
 "nbformat_minor": 5
}
