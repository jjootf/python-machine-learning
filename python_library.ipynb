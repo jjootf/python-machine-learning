{
 "cells": [
  {
   "cell_type": "markdown",
   "id": "9f9b4ab9",
   "metadata": {},
   "source": [
    "## 1. NumPy"
   ]
  },
  {
   "cell_type": "code",
   "execution_count": 1,
   "id": "6775dfae",
   "metadata": {},
   "outputs": [],
   "source": [
    "import numpy as np"
   ]
  },
  {
   "cell_type": "code",
   "execution_count": 3,
   "id": "0d69ce6f",
   "metadata": {},
   "outputs": [],
   "source": [
    "# ndarray\n",
    "arr = np.array([1,2,3,4,5])\n",
    "mat = np.array([[1,2,3,4],[5,6,7,8]])"
   ]
  },
  {
   "cell_type": "code",
   "execution_count": 4,
   "id": "f39b4d60",
   "metadata": {},
   "outputs": [
    {
     "name": "stdout",
     "output_type": "stream",
     "text": [
      "[1 2 3 4 5]\n",
      "[[1 2 3 4]\n",
      " [5 6 7 8]]\n"
     ]
    }
   ],
   "source": [
    "print(arr)\n",
    "print(mat)"
   ]
  },
  {
   "cell_type": "code",
   "execution_count": 7,
   "id": "0e898b0b",
   "metadata": {},
   "outputs": [
    {
     "name": "stdout",
     "output_type": "stream",
     "text": [
      "1\n",
      "2\n",
      "(5,)\n",
      "(2, 4)\n"
     ]
    }
   ],
   "source": [
    "# dimension 확인: ndim\n",
    "print(arr.ndim)\n",
    "print(mat.ndim)\n",
    "# shape 확인: shape\n",
    "print(arr.shape)\n",
    "print(mat.shape)\n",
    "# shape tuple이 n개의 정수: n 차원\n",
    "# 2d array의 경우: (a,b) -> a개의 행, b개의 열\n",
    "# a: 데이터의 수\n",
    "# b: 하나의 데이터를 구성하는 요소의 수"
   ]
  },
  {
   "cell_type": "code",
   "execution_count": 9,
   "id": "5b1d49e2",
   "metadata": {},
   "outputs": [
    {
     "name": "stdout",
     "output_type": "stream",
     "text": [
      "7\n",
      "7\n"
     ]
    }
   ],
   "source": [
    "# indexing (특정 요소, 특정 행, 특정 열을 지정)\n",
    "# index:0부터 시작, -1은 마지막 index를 의미함\n",
    "# mat[a,b] -> a:행 index, b: 열 index\n",
    "print(mat[1,2])\n",
    "# index 1인 행(두번째 행), index 2인 열(세번째 열)\n",
    "\n",
    "# 행의 마지막 index는 1이므로 아래와 동일 \n",
    "print(mat[-1,2])"
   ]
  },
  {
   "cell_type": "code",
   "execution_count": 14,
   "id": "49d8b1af",
   "metadata": {},
   "outputs": [
    {
     "name": "stdout",
     "output_type": "stream",
     "text": [
      "[[ 1  2  3  4]\n",
      " [ 5  6  7  8]\n",
      " [ 9 10 11 12]]\n",
      "[[2 3]\n",
      " [6 7]]\n",
      "[[2 3]\n",
      " [6 7]]\n",
      "[[2 3 4]\n",
      " [6 7 8]]\n",
      "[[2 3 4]\n",
      " [6 7 8]]\n"
     ]
    }
   ],
   "source": [
    "# slicing\n",
    "# index의 범위 지정\n",
    "# a:b -> index a부터 index b-1까지\n",
    "# ex> 2:5 -> index 2부터 index 4까지\n",
    "mat2 = np.array([[1,2,3,4],[5,6,7,8],[9,10,11,12]])\n",
    "print(mat2)\n",
    "print(mat2[0:2,1:3])\n",
    "# index 0부터 1까지의 행, index 1부터 2까지의 열\n",
    "# a:b에서 a를 생략할 경우, a는 0을 의미(첫 index부터)하고, \n",
    "# b를 생략할 경우, 마지막 index까지 포함함\n",
    "# 그러므로, a와 b를 모두 생략하면, 처음부터 마지막 index 모두를 의미함\n",
    "print(mat2[:2,1:3])\n",
    "\n",
    "print(mat2[0:2,1:4])\n",
    "print(mat2[:2,1:])"
   ]
  },
  {
   "cell_type": "code",
   "execution_count": 19,
   "id": "e00a1c36",
   "metadata": {},
   "outputs": [
    {
     "name": "stdout",
     "output_type": "stream",
     "text": [
      "[[ 1  2  3  4]\n",
      " [ 5  6  7  8]\n",
      " [ 9 10 11 12]]\n",
      "[ 9 10 11 12]\n",
      "[ 2  6 10]\n"
     ]
    }
   ],
   "source": [
    "# 특정 행과 열의 지정\n",
    "print(mat2)\n",
    "# index 2행\n",
    "# = index 2 행의 전체 열의 값\n",
    "print(mat2[2,:])\n",
    "# index 1열\n",
    "# = index 1 열의 전체 행의 값\n",
    "print(mat2[:,1])"
   ]
  },
  {
   "cell_type": "code",
   "execution_count": 25,
   "id": "0890a056",
   "metadata": {},
   "outputs": [
    {
     "name": "stdout",
     "output_type": "stream",
     "text": [
      "7\n",
      "0\n",
      "()\n",
      "[7]\n",
      "1\n",
      "(1,)\n",
      "[7]\n",
      "1\n",
      "(1,)\n",
      "[[7]]\n",
      "2\n",
      "(1, 1)\n"
     ]
    }
   ],
   "source": [
    "# mat2[index,index]: 0차원\n",
    "# mat2[범위,index] 또는 mat[index,범위]: 1차원\n",
    "# mat2[범위,범위]: 2차원\n",
    "\n",
    "print(mat2[1,2])\n",
    "print(mat2[1,2].ndim)\n",
    "print(mat2[1,2].shape)\n",
    "\n",
    "print(mat2[1:2,2])\n",
    "print(mat2[1:2,2].ndim)\n",
    "print(mat2[1:2,2].shape)\n",
    "\n",
    "print(mat2[1,2:3])\n",
    "print(mat2[1,2:3].ndim)\n",
    "print(mat2[1,2:3].shape)\n",
    "\n",
    "print(mat2[1:2,2:3])\n",
    "print(mat2[1:2,2:3].ndim)\n",
    "print(mat2[1:2,2:3].shape)"
   ]
  },
  {
   "cell_type": "code",
   "execution_count": 29,
   "id": "c289effb",
   "metadata": {},
   "outputs": [
    {
     "name": "stdout",
     "output_type": "stream",
     "text": [
      "[[ 1  2  3  4]\n",
      " [ 5  6  7  8]\n",
      " [ 9 10 11 12]]\n",
      "[ 2  6 10]\n",
      "(3,)\n",
      "[[ 2]\n",
      " [ 6]\n",
      " [10]]\n",
      "(3, 1)\n",
      "[[ 1  2  3  4]\n",
      " [ 5  6  7  8]\n",
      " [ 9 10 11 12]]\n",
      "[5 6 7 8]\n",
      "(4,)\n",
      "[[5 6 7 8]]\n",
      "(1, 4)\n"
     ]
    }
   ],
   "source": [
    "# 1차원 열(행)과 2차원 열(행)\n",
    "print(mat2)\n",
    "print(mat2[:,1])\n",
    "print(mat2[:,1].shape) # 1차원\n",
    "print(mat2[:,1:2])\n",
    "print(mat2[:,1:2].shape) # 2차원\n",
    "\n",
    "print(mat2[1,:])\n",
    "print(mat2[1,:].shape) # 1차원\n",
    "print(mat2[1:2,:])\n",
    "print(mat2[1:2,:].shape) # 2차원"
   ]
  },
  {
   "cell_type": "code",
   "execution_count": 40,
   "id": "3459451b",
   "metadata": {},
   "outputs": [
    {
     "name": "stdout",
     "output_type": "stream",
     "text": [
      "[ 3  7 11]\n",
      "(3,)\n",
      "[[ 3]\n",
      " [ 7]\n",
      " [11]]\n",
      "[[ 3]\n",
      " [ 7]\n",
      " [11]]\n",
      "[[ 4]\n",
      " [ 8]\n",
      " [12]]\n",
      "(3, 1)\n",
      "[ 4  8 12]\n"
     ]
    }
   ],
   "source": [
    "# shape 변환\n",
    "col = mat2[:,2]\n",
    "# index 2인 열, 열 index는 범위가 아니므로 1차원 array가 됨\n",
    "# shape: (3,)\n",
    "print(col)\n",
    "print(col.shape)\n",
    "\n",
    "# col을 2차원 array 3행1열 (3,1)로 변형하고자 함\n",
    "print(col.reshape(3,1))\n",
    "\n",
    "# reshape 값을 -1로 지정하면 자동으로 계산되어 변형됨\n",
    "print(col.reshape(-1,1))\n",
    "\n",
    "# 1d array를 2d array로 변경할 때\n",
    "# array.reshape(-1,1) 또는 array.reshape(1,-1)\n",
    "\n",
    "# 2d array를 1d array로 변경할 때\n",
    "# array.reshape(-1)\n",
    "col2 = mat2[:,3:4]\n",
    "print(col2)\n",
    "print(col2.shape)\n",
    "print(col2.reshape(-1))"
   ]
  },
  {
   "cell_type": "markdown",
   "id": "9d433e85",
   "metadata": {},
   "source": [
    "## 2. pandas"
   ]
  },
  {
   "cell_type": "code",
   "execution_count": 41,
   "id": "5b4ba94c",
   "metadata": {},
   "outputs": [],
   "source": [
    "import pandas as pd"
   ]
  },
  {
   "cell_type": "code",
   "execution_count": 44,
   "id": "2b8fd66c",
   "metadata": {},
   "outputs": [
    {
     "data": {
      "text/html": [
       "<div>\n",
       "<style scoped>\n",
       "    .dataframe tbody tr th:only-of-type {\n",
       "        vertical-align: middle;\n",
       "    }\n",
       "\n",
       "    .dataframe tbody tr th {\n",
       "        vertical-align: top;\n",
       "    }\n",
       "\n",
       "    .dataframe thead th {\n",
       "        text-align: right;\n",
       "    }\n",
       "</style>\n",
       "<table border=\"1\" class=\"dataframe\">\n",
       "  <thead>\n",
       "    <tr style=\"text-align: right;\">\n",
       "      <th></th>\n",
       "      <th>Name</th>\n",
       "      <th>Country</th>\n",
       "      <th>Age</th>\n",
       "      <th>Salary</th>\n",
       "      <th>Purchased</th>\n",
       "    </tr>\n",
       "  </thead>\n",
       "  <tbody>\n",
       "    <tr>\n",
       "      <th>0</th>\n",
       "      <td>James</td>\n",
       "      <td>France</td>\n",
       "      <td>44.0</td>\n",
       "      <td>72000.0</td>\n",
       "      <td>No</td>\n",
       "    </tr>\n",
       "    <tr>\n",
       "      <th>1</th>\n",
       "      <td>Tim</td>\n",
       "      <td>Spain</td>\n",
       "      <td>27.0</td>\n",
       "      <td>48000.0</td>\n",
       "      <td>Yes</td>\n",
       "    </tr>\n",
       "    <tr>\n",
       "      <th>2</th>\n",
       "      <td>Sarah</td>\n",
       "      <td>Germany</td>\n",
       "      <td>30.0</td>\n",
       "      <td>54000.0</td>\n",
       "      <td>No</td>\n",
       "    </tr>\n",
       "    <tr>\n",
       "      <th>3</th>\n",
       "      <td>Robert</td>\n",
       "      <td>Spain</td>\n",
       "      <td>38.0</td>\n",
       "      <td>61000.0</td>\n",
       "      <td>No</td>\n",
       "    </tr>\n",
       "    <tr>\n",
       "      <th>4</th>\n",
       "      <td>Emma</td>\n",
       "      <td>Germany</td>\n",
       "      <td>40.0</td>\n",
       "      <td>NaN</td>\n",
       "      <td>Yes</td>\n",
       "    </tr>\n",
       "    <tr>\n",
       "      <th>5</th>\n",
       "      <td>Jennifer</td>\n",
       "      <td>France</td>\n",
       "      <td>35.0</td>\n",
       "      <td>58000.0</td>\n",
       "      <td>Yes</td>\n",
       "    </tr>\n",
       "    <tr>\n",
       "      <th>6</th>\n",
       "      <td>Linda</td>\n",
       "      <td>Spain</td>\n",
       "      <td>NaN</td>\n",
       "      <td>52000.0</td>\n",
       "      <td>No</td>\n",
       "    </tr>\n",
       "    <tr>\n",
       "      <th>7</th>\n",
       "      <td>Thomas</td>\n",
       "      <td>France</td>\n",
       "      <td>48.0</td>\n",
       "      <td>79000.0</td>\n",
       "      <td>Yes</td>\n",
       "    </tr>\n",
       "    <tr>\n",
       "      <th>8</th>\n",
       "      <td>Ben</td>\n",
       "      <td>Germany</td>\n",
       "      <td>50.0</td>\n",
       "      <td>83000.0</td>\n",
       "      <td>No</td>\n",
       "    </tr>\n",
       "    <tr>\n",
       "      <th>9</th>\n",
       "      <td>Scarlett</td>\n",
       "      <td>France</td>\n",
       "      <td>37.0</td>\n",
       "      <td>67000.0</td>\n",
       "      <td>Yes</td>\n",
       "    </tr>\n",
       "  </tbody>\n",
       "</table>\n",
       "</div>"
      ],
      "text/plain": [
       "       Name  Country   Age   Salary Purchased\n",
       "0     James   France  44.0  72000.0        No\n",
       "1       Tim    Spain  27.0  48000.0       Yes\n",
       "2     Sarah  Germany  30.0  54000.0        No\n",
       "3    Robert    Spain  38.0  61000.0        No\n",
       "4      Emma  Germany  40.0      NaN       Yes\n",
       "5  Jennifer   France  35.0  58000.0       Yes\n",
       "6     Linda    Spain   NaN  52000.0        No\n",
       "7    Thomas   France  48.0  79000.0       Yes\n",
       "8       Ben  Germany  50.0  83000.0        No\n",
       "9  Scarlett   France  37.0  67000.0       Yes"
      ]
     },
     "execution_count": 44,
     "metadata": {},
     "output_type": "execute_result"
    }
   ],
   "source": [
    "data = pd.read_csv('sample.csv')\n",
    "data"
   ]
  },
  {
   "cell_type": "code",
   "execution_count": 49,
   "id": "0178dc9c",
   "metadata": {},
   "outputs": [
    {
     "name": "stdout",
     "output_type": "stream",
     "text": [
      "<class 'pandas.core.frame.DataFrame'>\n",
      "Index(['Name', 'Country', 'Age', 'Salary', 'Purchased'], dtype='object')\n",
      "RangeIndex(start=0, stop=10, step=1)\n",
      "[['James' 'France' 44.0 72000.0 'No']\n",
      " ['Tim' 'Spain' 27.0 48000.0 'Yes']\n",
      " ['Sarah' 'Germany' 30.0 54000.0 'No']\n",
      " ['Robert' 'Spain' 38.0 61000.0 'No']\n",
      " ['Emma' 'Germany' 40.0 nan 'Yes']\n",
      " ['Jennifer' 'France' 35.0 58000.0 'Yes']\n",
      " ['Linda' 'Spain' nan 52000.0 'No']\n",
      " ['Thomas' 'France' 48.0 79000.0 'Yes']\n",
      " ['Ben' 'Germany' 50.0 83000.0 'No']\n",
      " ['Scarlett' 'France' 37.0 67000.0 'Yes']]\n",
      "<class 'numpy.ndarray'>\n"
     ]
    }
   ],
   "source": [
    "# read_csv를 통해 로드한 데이터 타입은 DataFrame\n",
    "print(type(data))\n",
    "print(data.columns)\n",
    "# DataFrame.columns는 DataFrame의 column 이름을 반환\n",
    "# read_csv로 로드할 때, 자동으로 첫번째 행은 column 이름으로 간주함\n",
    "print(data.index)\n",
    "# DataFrame.index는 DataFrame의 index를 반환\n",
    "print(data.values)\n",
    "print(type(data.values))\n",
    "# DataFrame.values는 DataFrame의 columns과 index를 제외한 value만 반환\n",
    "# DataFrame.values의 타입은 ndarray"
   ]
  },
  {
   "cell_type": "code",
   "execution_count": 51,
   "id": "e72ceb1f",
   "metadata": {},
   "outputs": [
    {
     "name": "stdout",
     "output_type": "stream",
     "text": [
      "<class 'numpy.ndarray'>\n",
      "(10, 5)\n",
      "[['James' 'France' 44.0 72000.0 'No']\n",
      " ['Tim' 'Spain' 27.0 48000.0 'Yes']\n",
      " ['Sarah' 'Germany' 30.0 54000.0 'No']\n",
      " ['Robert' 'Spain' 38.0 61000.0 'No']\n",
      " ['Emma' 'Germany' 40.0 nan 'Yes']\n",
      " ['Jennifer' 'France' 35.0 58000.0 'Yes']\n",
      " ['Linda' 'Spain' nan 52000.0 'No']\n",
      " ['Thomas' 'France' 48.0 79000.0 'Yes']\n",
      " ['Ben' 'Germany' 50.0 83000.0 'No']\n",
      " ['Scarlett' 'France' 37.0 67000.0 'Yes']]\n"
     ]
    }
   ],
   "source": [
    "# machine learning이나 deep learning에서 data는 대부분의 경우\n",
    "# ndarray를 사용함 (일부 DataFrame을 사용할 수 도 있으나, 내부적으로 ndarray로 변환)\n",
    "# 그러므로, csv 파일을 로드한 직후, values를 이용하여 value만 ndarray로 가져오면 편함\n",
    "data = pd.read_csv('sample.csv').values\n",
    "print(type(data))\n",
    "print(data.shape)\n",
    "print(data)"
   ]
  },
  {
   "cell_type": "code",
   "execution_count": 53,
   "id": "e146ab72",
   "metadata": {},
   "outputs": [
    {
     "name": "stdout",
     "output_type": "stream",
     "text": [
      "[['James' 'France' 44.0 72000.0]\n",
      " ['Tim' 'Spain' 27.0 48000.0]\n",
      " ['Sarah' 'Germany' 30.0 54000.0]\n",
      " ['Robert' 'Spain' 38.0 61000.0]\n",
      " ['Emma' 'Germany' 40.0 nan]\n",
      " ['Jennifer' 'France' 35.0 58000.0]\n",
      " ['Linda' 'Spain' nan 52000.0]\n",
      " ['Thomas' 'France' 48.0 79000.0]\n",
      " ['Ben' 'Germany' 50.0 83000.0]\n",
      " ['Scarlett' 'France' 37.0 67000.0]]\n",
      "['No' 'Yes' 'No' 'No' 'Yes' 'Yes' 'No' 'Yes' 'No' 'Yes']\n"
     ]
    }
   ],
   "source": [
    "# 첫번째 열부터 네번째 열까지를 X, 마지막 열을 y로 분리하여 추출 (전체 행)\n",
    "data = pd.read_csv('sample.csv').values\n",
    "X = data[:,0:4]\n",
    "y = data[:,4]\n",
    "print(X)\n",
    "print(y)"
   ]
  },
  {
   "cell_type": "code",
   "execution_count": 54,
   "id": "a9fd42a4",
   "metadata": {
    "scrolled": true
   },
   "outputs": [
    {
     "name": "stdout",
     "output_type": "stream",
     "text": [
      "[['James' 'France' 44.0 72000.0]\n",
      " ['Tim' 'Spain' 27.0 48000.0]\n",
      " ['Sarah' 'Germany' 30.0 54000.0]\n",
      " ['Robert' 'Spain' 38.0 61000.0]\n",
      " ['Emma' 'Germany' 40.0 nan]\n",
      " ['Jennifer' 'France' 35.0 58000.0]\n",
      " ['Linda' 'Spain' nan 52000.0]\n",
      " ['Thomas' 'France' 48.0 79000.0]\n",
      " ['Ben' 'Germany' 50.0 83000.0]\n",
      " ['Scarlett' 'France' 37.0 67000.0]]\n",
      "['No' 'Yes' 'No' 'No' 'Yes' 'Yes' 'No' 'Yes' 'No' 'Yes']\n"
     ]
    }
   ],
   "source": [
    "# 마지막 열 index를 -1로 사용하면, 범용적으로 사용할 수 있음 (추천)\n",
    "data = pd.read_csv('sample.csv').values\n",
    "X = data[:,:-1]\n",
    "y = data[:,-1]\n",
    "print(X)\n",
    "print(y)"
   ]
  },
  {
   "cell_type": "code",
   "execution_count": 55,
   "id": "702d8bfd",
   "metadata": {},
   "outputs": [
    {
     "name": "stdout",
     "output_type": "stream",
     "text": [
      "[['James' 'France' 44.0 72000.0]\n",
      " ['Tim' 'Spain' 27.0 48000.0]\n",
      " ['Sarah' 'Germany' 30.0 54000.0]\n",
      " ['Robert' 'Spain' 38.0 61000.0]\n",
      " ['Emma' 'Germany' 40.0 nan]\n",
      " ['Jennifer' 'France' 35.0 58000.0]\n",
      " ['Linda' 'Spain' nan 52000.0]\n",
      " ['Thomas' 'France' 48.0 79000.0]\n",
      " ['Ben' 'Germany' 50.0 83000.0]\n",
      " ['Scarlett' 'France' 37.0 67000.0]]\n",
      "[['No']\n",
      " ['Yes']\n",
      " ['No']\n",
      " ['No']\n",
      " ['Yes']\n",
      " ['Yes']\n",
      " ['No']\n",
      " ['Yes']\n",
      " ['No']\n",
      " ['Yes']]\n"
     ]
    }
   ],
   "source": [
    "# y도 2d array로 로드해야할 경우도 있음\n",
    "# 마지막 열도 범위로 지정 (-1: -> 마지막 열부터 끝까지 -> 마지막 열 하나만 의미함)\n",
    "data = pd.read_csv('sample.csv').values\n",
    "X = data[:,:-1]\n",
    "y = data[:,-1:]\n",
    "print(X)\n",
    "print(y)"
   ]
  },
  {
   "cell_type": "code",
   "execution_count": 57,
   "id": "69317741",
   "metadata": {
    "scrolled": false
   },
   "outputs": [
    {
     "name": "stdout",
     "output_type": "stream",
     "text": [
      "       Name  Country   Age   Salary\n",
      "0     James   France  44.0  72000.0\n",
      "1       Tim    Spain  27.0  48000.0\n",
      "2     Sarah  Germany  30.0  54000.0\n",
      "3    Robert    Spain  38.0  61000.0\n",
      "4      Emma  Germany  40.0      NaN\n",
      "5  Jennifer   France  35.0  58000.0\n",
      "6     Linda    Spain   NaN  52000.0\n",
      "7    Thomas   France  48.0  79000.0\n",
      "8       Ben  Germany  50.0  83000.0\n",
      "9  Scarlett   France  37.0  67000.0\n",
      "0     No\n",
      "1    Yes\n",
      "2     No\n",
      "3     No\n",
      "4    Yes\n",
      "5    Yes\n",
      "6     No\n",
      "7    Yes\n",
      "8     No\n",
      "9    Yes\n",
      "Name: Purchased, dtype: object\n"
     ]
    }
   ],
   "source": [
    "# 참고\n",
    "# DataFrame에서 X와 y를 분리한 후, ndarray로 변환\n",
    "# csv를 로드할 때, values를 통해 ndarray로 저장하는 위 방법을 추천함\n",
    "data = pd.read_csv('sample.csv')\n",
    "X = data.iloc[:,:-1]\n",
    "y = data.iloc[:,-1]\n",
    "print(X)\n",
    "print(y)\n",
    "# ndarray로 변환\n",
    "X = X.values\n",
    "y = y.values"
   ]
  },
  {
   "cell_type": "markdown",
   "id": "bb8af7e6",
   "metadata": {},
   "source": [
    "## 3. scikit-learn"
   ]
  },
  {
   "cell_type": "code",
   "execution_count": 58,
   "id": "8d6afd1f",
   "metadata": {},
   "outputs": [],
   "source": [
    "import pandas as pd"
   ]
  },
  {
   "cell_type": "code",
   "execution_count": 65,
   "id": "02739ba7",
   "metadata": {},
   "outputs": [
    {
     "data": {
      "text/plain": [
       "array([['France', 44.0, 72000.0, 'No'],\n",
       "       ['Spain', 27.0, 48000.0, 'Yes'],\n",
       "       ['Germany', 30.0, 54000.0, 'No'],\n",
       "       ['Spain', 38.0, 61000.0, 'No'],\n",
       "       ['Germany', 40.0, nan, 'Yes'],\n",
       "       ['France', 35.0, 58000.0, 'Yes'],\n",
       "       ['Spain', nan, 52000.0, 'No'],\n",
       "       ['France', 48.0, 79000.0, 'Yes'],\n",
       "       ['Germany', 50.0, 83000.0, 'No'],\n",
       "       ['France', 37.0, 67000.0, 'Yes']], dtype=object)"
      ]
     },
     "execution_count": 65,
     "metadata": {},
     "output_type": "execute_result"
    }
   ],
   "source": [
    "dataset = pd.read_csv('classification_data/Data.csv').values\n",
    "dataset"
   ]
  },
  {
   "cell_type": "code",
   "execution_count": 66,
   "id": "4af6b1f3",
   "metadata": {},
   "outputs": [
    {
     "name": "stdout",
     "output_type": "stream",
     "text": [
      "[['France' 44.0 72000.0]\n",
      " ['Spain' 27.0 48000.0]\n",
      " ['Germany' 30.0 54000.0]\n",
      " ['Spain' 38.0 61000.0]\n",
      " ['Germany' 40.0 nan]\n",
      " ['France' 35.0 58000.0]\n",
      " ['Spain' nan 52000.0]\n",
      " ['France' 48.0 79000.0]\n",
      " ['Germany' 50.0 83000.0]\n",
      " ['France' 37.0 67000.0]]\n",
      "['No' 'Yes' 'No' 'No' 'Yes' 'Yes' 'No' 'Yes' 'No' 'Yes']\n",
      "(10, 3)\n",
      "(10,)\n"
     ]
    }
   ],
   "source": [
    "# X와 y로 분리\n",
    "# X는 마지막 열을 제외한 모든 열, y는 마지막 열\n",
    "X = dataset[:,:-1]\n",
    "y = dataset[:,-1]\n",
    "print(X)\n",
    "print(y)\n",
    "# shape은 코드 작성 중간에 자주 확인해보는 것을 추천\n",
    "print(X.shape)\n",
    "print(y.shape)"
   ]
  },
  {
   "cell_type": "code",
   "execution_count": 69,
   "id": "7407c217",
   "metadata": {},
   "outputs": [
    {
     "name": "stdout",
     "output_type": "stream",
     "text": [
      "[0 2 1 2 1 0 2 0 1 0]\n"
     ]
    }
   ],
   "source": [
    "# 문자열을 숫자로 변경\n",
    "# 1. LabelEncoder: 특정 문자를 정수로 변환\n",
    "# 문자를 0부터 시작하는 정수로 변경\n",
    "# 단, 문자 값은 범주형 데이터로 간주함\n",
    "\n",
    "from sklearn.preprocessing import LabelEncoder\n",
    "le = LabelEncoder()\n",
    "# LabelEncoder를 사용하겠다라고 선언, 이 LabelEncoder의 이름을 le로 하겠음\n",
    "# X의 첫번째 열(Spain, France, Germany)을 정수로 변환하고자 함\n",
    "le.fit(X[:,0])\n",
    "# fit은 변환하기 전, 변환을 위한 사전 정보 취득 \n",
    "# 몇 개의 데이터가 있는지, 어떠한 문자를 어떠한 정수로 변경할 건지 등\n",
    "X_new = le.transform(X[:,0])\n",
    "# 실제 변환 수행 (반드시 fit을 먼저 수행한 후, transform 수행)\n",
    "print(X_new)"
   ]
  },
  {
   "cell_type": "code",
   "execution_count": 72,
   "id": "d7a4fe49",
   "metadata": {},
   "outputs": [
    {
     "name": "stdout",
     "output_type": "stream",
     "text": [
      "[[1. 0. 0.]\n",
      " [0. 0. 1.]\n",
      " [0. 1. 0.]\n",
      " [0. 0. 1.]\n",
      " [0. 1. 0.]\n",
      " [1. 0. 0.]\n",
      " [0. 0. 1.]\n",
      " [1. 0. 0.]\n",
      " [0. 1. 0.]\n",
      " [1. 0. 0.]]\n"
     ]
    }
   ],
   "source": [
    "# 2. OneHotEncoder: 특정 문자를 0과 1이 조합된 2d array로 변환\n",
    "# 단, 문자 값은 범주형 데이터로 간주함\n",
    "\n",
    "from sklearn.preprocessing import OneHotEncoder\n",
    "ohe = OneHotEncoder()\n",
    "# OneHotEncoder를 사용하겠다라고 선언, 이 OneHotEncoder의 이름을 ohe로 하겠음\n",
    "# X의 첫번째 열(Spain, France, Germany)을 0과1로 조합된 2d array로 변환하고자 함\n",
    "ohe.fit(X[:,:1])\n",
    "# OneHotEncoder는 2D 형태로 반환되기 때문에, 입력도 2D가 되어야 함\n",
    "# (1) X[:,:1]\n",
    "# (2) X[:,0].reshape(-1,1)\n",
    "# fit은 변환하기 전, 변환을 위한 사전 정보 취득 \n",
    "# 몇 개의 데이터가 있는지, 어떠한 문자를 어떠한 값으로 변경할 건지 등\n",
    "X_new = ohe.transform(X[:,:1]).toarray()\n",
    "# 실제 변환 수행 (반드시 fit을 먼저 수행한 후, transform 수행)\n",
    "# OneHotEncoder의 결과는 ndarray가 아니라 sparse_matrix\n",
    "# 결과를 ndarray로 변환해야 함 (.toarray())\n",
    "print(X_new)"
   ]
  },
  {
   "cell_type": "code",
   "execution_count": 74,
   "id": "2ef3bd44",
   "metadata": {
    "scrolled": false
   },
   "outputs": [
    {
     "name": "stdout",
     "output_type": "stream",
     "text": [
      "변환 전\n",
      "[[44.0 72000.0]\n",
      " [27.0 48000.0]\n",
      " [30.0 54000.0]\n",
      " [38.0 61000.0]\n",
      " [40.0 nan]\n",
      " [35.0 58000.0]\n",
      " [nan 52000.0]\n",
      " [48.0 79000.0]\n",
      " [50.0 83000.0]\n",
      " [37.0 67000.0]]\n",
      "변환 후\n",
      "[[ 0.71993143  0.71101276]\n",
      " [-1.62367514 -1.36437583]\n",
      " [-1.21009751 -0.84552869]\n",
      " [-0.10722383 -0.24020701]\n",
      " [ 0.16849459         nan]\n",
      " [-0.52080146 -0.49963059]\n",
      " [        nan -1.01847774]\n",
      " [ 1.27136827  1.31633443]\n",
      " [ 1.54708669  1.66223253]\n",
      " [-0.24508304  0.27864014]]\n"
     ]
    }
   ],
   "source": [
    "# 크기 변환\n",
    "# 각 열 값의 범위가 크게 차이날 경우, 유사한 범위로 변환이 필요한 경우가 있음\n",
    "# 1. StandardScaler\n",
    "# 평균이 0이고 분산(표준편차)이 1인 데이터 형태로 변환\n",
    "# 결과는 약 -3~+3 정도의 값으로 변환\n",
    "from sklearn.preprocessing import StandardScaler\n",
    "sc = StandardScaler()\n",
    "# 두번째, 세번째 열을 StandardScaler에 적용\n",
    "sc.fit(X[:,1:])\n",
    "# 변환(transform) 전, 반드시 fit을 수행해야 함\n",
    "# fit은 입력된 데이터의 평균, 분산 등, 변환에 필요한 값을 구함 (변환을 수행하지는 않음)\n",
    "X_sc = sc.transform(X[:,1:])\n",
    "print('변환 전')\n",
    "print(X[:,1:])\n",
    "print('변환 후')\n",
    "print(X_sc)"
   ]
  },
  {
   "cell_type": "code",
   "execution_count": 76,
   "id": "a4a9e46e",
   "metadata": {
    "scrolled": true
   },
   "outputs": [
    {
     "name": "stdout",
     "output_type": "stream",
     "text": [
      "변환 전\n",
      "[[44.0 72000.0]\n",
      " [27.0 48000.0]\n",
      " [30.0 54000.0]\n",
      " [38.0 61000.0]\n",
      " [40.0 nan]\n",
      " [35.0 58000.0]\n",
      " [nan 52000.0]\n",
      " [48.0 79000.0]\n",
      " [50.0 83000.0]\n",
      " [37.0 67000.0]]\n",
      "변환 후\n",
      "[[0.73913043 0.68571429]\n",
      " [0.         0.        ]\n",
      " [0.13043478 0.17142857]\n",
      " [0.47826087 0.37142857]\n",
      " [0.56521739        nan]\n",
      " [0.34782609 0.28571429]\n",
      " [       nan 0.11428571]\n",
      " [0.91304348 0.88571429]\n",
      " [1.         1.        ]\n",
      " [0.43478261 0.54285714]]\n"
     ]
    }
   ],
   "source": [
    "# 2. MinMaxScaler\n",
    "# 최대값과 최소값을 설정하여, 해당 범위의 값으로 변경\n",
    "from sklearn.preprocessing import MinMaxScaler\n",
    "mm = MinMaxScaler()\n",
    "# 최대, 최소값을 설정하지 않는 경우, 디폴트로 최소값 0, 최대값 1\n",
    "# 두번째, 세번째 열을 StandardScaler에 적용\n",
    "mm.fit(X[:,1:])\n",
    "# 변환(transform) 전, 반드시 fit을 수행해야 함\n",
    "# fit은 입력된 데이터의 최대값, 최소값 등, 변환에 필요한 값을 구함 (변환을 수행하지는 않음)\n",
    "X_mm = mm.transform(X[:,1:])\n",
    "print('변환 전')\n",
    "print(X[:,1:])\n",
    "print('변환 후')\n",
    "print(X_mm)"
   ]
  },
  {
   "cell_type": "code",
   "execution_count": 118,
   "id": "404b4438",
   "metadata": {},
   "outputs": [
    {
     "name": "stdout",
     "output_type": "stream",
     "text": [
      "(8, 3) (2, 3) (8,) (2,)\n",
      "['France' 35.0 58000.0]\n",
      "['Germany' 40.0 nan]\n"
     ]
    }
   ],
   "source": [
    "# 학습데이터와 테스트데이터의 분리\n",
    "from sklearn.model_selection import train_test_split\n",
    "# 1. X와 y를 분리\n",
    "X_train,X_test,y_train,y_test = train_test_split(X,y,test_size=0.2,random_state=2)\n",
    "# test_size는 전체 데이터에 대해 테스트 데이터의 비율\n",
    "# 반드시 반환되는 데이터의 순서를 기억할 것\n",
    "# random_state를 하나의 정수값으로 지정하면, 해당 값이 적용된 경우, \n",
    "# 항상 동일한 데이터를 반환함\n",
    "print(X_train.shape, X_test.shape, y_train.shape, y_test.shape)\n",
    "print(X_train[0,:])\n",
    "print(X_test[0,:])"
   ]
  },
  {
   "cell_type": "code",
   "execution_count": 120,
   "id": "fe789866",
   "metadata": {},
   "outputs": [
    {
     "name": "stdout",
     "output_type": "stream",
     "text": [
      "(8, 4) (2, 4)\n",
      "['France' 35.0 58000.0 'Yes']\n",
      "['Germany' 40.0 nan 'Yes']\n",
      "(8, 3) (2, 3) (8,) (2,)\n",
      "['France' 35.0 58000.0]\n",
      "['Germany' 40.0 nan]\n"
     ]
    }
   ],
   "source": [
    "from sklearn.model_selection import train_test_split\n",
    "# 2. dataset을 분리 후, X와 y로 나눔\n",
    "dataset = pd.read_csv('Data.csv').values\n",
    "data_train, data_test = train_test_split(dataset,test_size=0.2,random_state=2)\n",
    "\n",
    "print(data_train.shape, data_test.shape)\n",
    "print(data_train[0,:])\n",
    "print(data_test[0,:])\n",
    "\n",
    "X_train = data_train[:,:-1]\n",
    "y_train = data_train[:,-1]\n",
    "X_test = data_test[:,:-1]\n",
    "y_test = data_test[:,-1]\n",
    "print(X_train.shape, X_test.shape, y_train.shape, y_test.shape)\n",
    "print(X_train[0,:])\n",
    "print(X_test[0,:])"
   ]
  },
  {
   "cell_type": "markdown",
   "id": "9d49840f",
   "metadata": {},
   "source": [
    "- scaling(StandardScaler, MinMaxScaler)과 encoding(LabelEncoder, OneHotEncoder)은\n",
    "- training data만 사용하여 fit을 적용하고\n",
    "- test data는 training data를 이용하여 fit한 결과를 통해 transform만 수행"
   ]
  },
  {
   "cell_type": "markdown",
   "id": "b60ee1a1",
   "metadata": {},
   "source": [
    "## 4. matplotlib"
   ]
  },
  {
   "cell_type": "code",
   "execution_count": 121,
   "id": "4a07e935",
   "metadata": {},
   "outputs": [],
   "source": [
    "import matplotlib.pyplot as plt"
   ]
  },
  {
   "cell_type": "markdown",
   "id": "0f76df1a",
   "metadata": {},
   "source": [
    "- plt.plot(x,y) : 선차트 (x는 생략 가능, x 생략할 경우, 가로축 값은 index)\n",
    "- plt.scatter(x,y) : 산점도"
   ]
  }
 ],
 "metadata": {
  "kernelspec": {
   "display_name": "Python 3 (ipykernel)",
   "language": "python",
   "name": "python3"
  },
  "language_info": {
   "codemirror_mode": {
    "name": "ipython",
    "version": 3
   },
   "file_extension": ".py",
   "mimetype": "text/x-python",
   "name": "python",
   "nbconvert_exporter": "python",
   "pygments_lexer": "ipython3",
   "version": "3.9.13"
  }
 },
 "nbformat": 4,
 "nbformat_minor": 5
}
